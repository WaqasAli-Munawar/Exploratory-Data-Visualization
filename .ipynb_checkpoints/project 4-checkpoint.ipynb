{
 "cells": [
  {
   "cell_type": "markdown",
   "metadata": {},
   "source": [
    "We'll be working with a dataset on the job outcomes of students who graduated from college between 2010 and 2012. The original data on job outcomes was released by [American Community Survey](https://www.census.gov/programs-surveys/acs/), which conducts surveys and aggregates the data."
   ]
  },
  {
   "cell_type": "markdown",
   "metadata": {},
   "source": [
    "Here are some of the columns in the dataset:\n",
    "\n",
    "* `Rank` - Rank by median earnings (the dataset is ordered by this column).\n",
    "* `Major_code` - Major code.\n",
    "* `Major` - Major description.\n",
    "* `Major_category` - Category of major.\n",
    "* `Total` - Total number of people with major.\n",
    "* `Sample_size` - Sample size (unweighted) of full-time.\n",
    "* `Men` - Male graduates.\n",
    "* `Women` - Female graduates.\n",
    "* `ShareWomen` - Women as share of total.\n",
    "* `Employed` - Number employed.\n",
    "* `Median` - Median salary of full-time, year-round workers.\n",
    "* `Low_wage_jobs` - Number in low-wage service jobs.\n",
    "* `Full_time` - Number employed 35 hours or more.\n",
    "* `Part_time` - Number employed less than 35 hours."
   ]
  },
  {
   "cell_type": "markdown",
   "metadata": {},
   "source": [
    "Our aim is to identify;\n",
    "\n",
    "* Dominant Major_category for Men and Women\n",
    "* Top Majors in Dominant category according to the highest Employment\n",
    "* Top Majors in Dominant category according to highest Median Salary"
   ]
  },
  {
   "cell_type": "code",
   "execution_count": null,
   "metadata": {},
   "outputs": [],
   "source": []
  },
  {
   "cell_type": "code",
   "execution_count": null,
   "metadata": {},
   "outputs": [],
   "source": []
  }
 ],
 "metadata": {
  "kernelspec": {
   "display_name": "Python 3",
   "language": "python",
   "name": "python3"
  },
  "language_info": {
   "codemirror_mode": {
    "name": "ipython",
    "version": 3
   },
   "file_extension": ".py",
   "mimetype": "text/x-python",
   "name": "python",
   "nbconvert_exporter": "python",
   "pygments_lexer": "ipython3",
   "version": "3.7.6"
  }
 },
 "nbformat": 4,
 "nbformat_minor": 2
}
